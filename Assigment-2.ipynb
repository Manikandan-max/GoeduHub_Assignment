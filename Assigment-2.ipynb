{
 "cells": [
  {
   "cell_type": "markdown",
   "metadata": {},
   "source": [
    "###### 1. Is list mutable?\n",
    "    Yes, it is mutable. We can add items whenever necessary.\n",
    "2.Does a list need to be homogeneous?\n",
    "    List contains different types of data and it is heterogeneous.\n",
    "3.What is the difference between list and tuple?\n",
    "    Lists are mutable and tuples are immutable. List represents within [] and tuples in ().\n",
    "4.How to find the number of elements in the list?\n"
   ]
  },
  {
   "cell_type": "code",
   "execution_count": 1,
   "metadata": {},
   "outputs": [
    {
     "data": {
      "text/plain": [
       "6"
      ]
     },
     "execution_count": 1,
     "metadata": {},
     "output_type": "execute_result"
    }
   ],
   "source": [
    "list=[32,32,23,3,32,2]\n",
    "len(list)"
   ]
  },
  {
   "cell_type": "markdown",
   "metadata": {},
   "source": [
    "5.How to check whether the list is empty or not?"
   ]
  },
  {
   "cell_type": "code",
   "execution_count": 2,
   "metadata": {},
   "outputs": [
    {
     "name": "stdout",
     "output_type": "stream",
     "text": [
      "contains elements\n"
     ]
    }
   ],
   "source": [
    "list=[23,32,32,243,78]\n",
    "if len(list)==0:\n",
    "    print(\"List is empty\")\n",
    "else:\n",
    "    print(\"contains elements\")"
   ]
  },
  {
   "cell_type": "markdown",
   "metadata": {},
   "source": [
    "6.How to find the first and last element of the list?"
   ]
  },
  {
   "cell_type": "code",
   "execution_count": 3,
   "metadata": {},
   "outputs": [
    {
     "name": "stdout",
     "output_type": "stream",
     "text": [
      "23\n",
      "78\n"
     ]
    }
   ],
   "source": [
    "print(list[0])\n",
    "print(list[-1])"
   ]
  },
  {
   "cell_type": "markdown",
   "metadata": {},
   "source": [
    "7.How to find the largest and lowest value in the list?"
   ]
  },
  {
   "cell_type": "code",
   "execution_count": 5,
   "metadata": {},
   "outputs": [
    {
     "name": "stdout",
     "output_type": "stream",
     "text": [
      "Largest number is:  243\n",
      "Smallest number is:  23\n"
     ]
    }
   ],
   "source": [
    "print(\"Largest number is: \", max(list))\n",
    "print(\"Smallest number is: \", min(list))"
   ]
  },
  {
   "cell_type": "markdown",
   "metadata": {},
   "source": [
    " 8.How to access elements of the list?"
   ]
  },
  {
   "cell_type": "code",
   "execution_count": 6,
   "metadata": {},
   "outputs": [
    {
     "name": "stdout",
     "output_type": "stream",
     "text": [
      "List start value 23\n",
      "Elements [23, 32, 32, 243, 78]\n"
     ]
    }
   ],
   "source": [
    "print(\"List start value\", list[0])\n",
    "print(\"Elements\",list[:5])"
   ]
  },
  {
   "cell_type": "markdown",
   "metadata": {},
   "source": [
    "9.Remove elements in a list before a specific index"
   ]
  },
  {
   "cell_type": "code",
   "execution_count": 7,
   "metadata": {},
   "outputs": [
    {
     "data": {
      "text/plain": [
       "78"
      ]
     },
     "execution_count": 7,
     "metadata": {},
     "output_type": "execute_result"
    }
   ],
   "source": [
    "list.pop()"
   ]
  },
  {
   "cell_type": "markdown",
   "metadata": {},
   "source": [
    "10.How to concatenate two lists?"
   ]
  },
  {
   "cell_type": "code",
   "execution_count": 8,
   "metadata": {},
   "outputs": [
    {
     "name": "stdout",
     "output_type": "stream",
     "text": [
      "[32, 32, 32, 76, 87, 34, 87]\n"
     ]
    }
   ],
   "source": [
    "l1=[32,32,32]\n",
    "l2=[76,87,34,87]\n",
    "l3=l1+l2\n",
    "print(l3)"
   ]
  },
  {
   "cell_type": "markdown",
   "metadata": {},
   "source": [
    "11. Difference between del and clear?\n",
    "\n",
    "Answer: del will delete entire list and clear will remove all the elements inside the list. After applyiong del statement, if we try to print that list, it will show the error, but if we try to print that list after applying clear, it will show the null string without any value inside it.\n",
    "\n",
    "12. Difference between remove and pop?\n",
    "\n",
    "Answer: pop() will remove the last element byt default. remove() takes value as parameter to remove the element.\n",
    "\n",
    "13. Difference between append and extend?\n",
    "\n",
    "Answer: append will add nested list means list in list at last position,while extend will extend the elements from last index, but in single list.\n",
    "\n",
    "14. Difference between indexing and Slicing?\n",
    "\n",
    "Answer: index will give us the index of specified value, while slicing will give value or group of values of specified index.\n",
    "\n",
    "15. Difference between sort and sorted?\n",
    "\n",
    "Answer: The sort() function modifies the list in-place and has no return value. The sorted() function will create a new list containing a sorted version of the list it is given. The sorted() function will not modify the list passed as a parameter.\n",
    "\n",
    "16. Difference between reverse and reversed?\n",
    "\n",
    "Answer: reverse() actually reverses the elements in the container. reversed() doesn't actually reverse anything, it merely returns an object that can be used to iterate over the container's elements in reverse order.\n",
    "\n",
    "17. Difference between copy and deepcopy?\n",
    "\n",
    "Answer: A shallow copy constructs a new compound object and then inserts references into it to the objects found in the original. A deep copy constructs a new compound object and then, recursively, inserts copies into it of the objects found in the original."
   ]
  },
  {
   "cell_type": "markdown",
   "metadata": {},
   "source": [
    " 18.How to remove duplicate elements in the list?"
   ]
  },
  {
   "cell_type": "code",
   "execution_count": 12,
   "metadata": {},
   "outputs": [
    {
     "name": "stdout",
     "output_type": "stream",
     "text": [
      "The original list is : [1, 5, 3, 6, 3, 5, 6, 1]\n",
      "The list after removing duplicates : [1, 5, 3, 6]\n"
     ]
    }
   ],
   "source": [
    "\n",
    "\n",
    "# initializing list\n",
    "test_list = [1, 5, 3, 6, 3, 5, 6, 1]\n",
    "print (\"The original list is : \" + str(test_list))\n",
    "res=[]\n",
    "[res.append(x)for x in test_list if x not in res]\n",
    "\n",
    "\n",
    "\n",
    "print (\"The list after removing duplicates : \" + str(res))\n"
   ]
  },
  {
   "cell_type": "markdown",
   "metadata": {},
   "source": [
    "19.How to flatten the list?"
   ]
  },
  {
   "cell_type": "code",
   "execution_count": 15,
   "metadata": {},
   "outputs": [
    {
     "name": "stdout",
     "output_type": "stream",
     "text": [
      "[12, 2, 1, 32, 43, 54, 43, 43, 2]\n"
     ]
    }
   ],
   "source": [
    "l1=[[12,2,1],[32,43,54],[43,43,2]]\n",
    "l2=[]\n",
    "for i in l1:\n",
    "    l2+=i\n",
    "print(l2)"
   ]
  },
  {
   "cell_type": "markdown",
   "metadata": {},
   "source": [
    "20. How to convert python list to other data structures like set, tuple, dictionary?"
   ]
  },
  {
   "cell_type": "code",
   "execution_count": 18,
   "metadata": {},
   "outputs": [
    {
     "name": "stdout",
     "output_type": "stream",
     "text": [
      "(23, 23, 32, 32, 12, 2, 112)\n",
      "{32, 2, 12, 112, 23}\n",
      "{23: 46, 32: 64, 12: 24, 2: 4, 112: 224}\n"
     ]
    }
   ],
   "source": [
    "l1=[23,23,32,32,12,2,112]\n",
    "t=tuple(l1)\n",
    "print(t)\n",
    "s=set(l1)\n",
    "print(s)\n",
    "d= {n:n*2 for n in l1}\n",
    "print(d)"
   ]
  },
  {
   "cell_type": "markdown",
   "metadata": {},
   "source": []
  }
 ],
 "metadata": {
  "kernelspec": {
   "display_name": "Python 3",
   "language": "python",
   "name": "python3"
  },
  "language_info": {
   "codemirror_mode": {
    "name": "ipython",
    "version": 3
   },
   "file_extension": ".py",
   "mimetype": "text/x-python",
   "name": "python",
   "nbconvert_exporter": "python",
   "pygments_lexer": "ipython3",
   "version": "3.8.5"
  }
 },
 "nbformat": 4,
 "nbformat_minor": 4
}
