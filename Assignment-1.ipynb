{
 "cells": [
  {
   "cell_type": "markdown",
   "metadata": {},
   "source": [
    "## Assignment 1\n",
    "Python Basics"
   ]
  },
  {
   "cell_type": "code",
   "execution_count": 5,
   "metadata": {},
   "outputs": [
    {
     "name": "stdout",
     "output_type": "stream",
     "text": [
      "Enter colors,fruits,AnimalsLion\n",
      "Lion is in Animals\n"
     ]
    }
   ],
   "source": [
    "Colors =[\"Yellow\",\"Green\",\"White\",\"Black\"]\n",
    "\n",
    "Fruits= [\"Apple\",\"Papaya\",\"Mango\",\"Orange\"]\n",
    "\n",
    "Animals= [\"Tiger\",\"Lion\",\"Deer\",\"Zebra\"]\n",
    "\n",
    "n=input(\"Enter colors,fruits,Animals\")\n",
    "if n in Colors:\n",
    "    print(n,\"is in Colors\")\n",
    "elif n in Fruits:\n",
    "    print(n,\"is in Fruits\")\n",
    "elif n in Animals:\n",
    "    print(n,\"is in Animals\")\n",
    "else:\n",
    "    print(\"Unknown Entry\")"
   ]
  },
  {
   "cell_type": "code",
   "execution_count": 7,
   "metadata": {},
   "outputs": [
    {
     "name": "stdout",
     "output_type": "stream",
     "text": [
      "Enter marks:39\n",
      "39 is a low score\n"
     ]
    }
   ],
   "source": [
    "marks=int(input(\"Enter marks:\"))\n",
    "if marks >60:\n",
    "    print(marks,\"is a good score\")\n",
    "elif marks >40:\n",
    "    print(marks,\"is a normal score\")\n",
    "else:\n",
    "    print(marks,\"is a low score\")"
   ]
  },
  {
   "cell_type": "code",
   "execution_count": 8,
   "metadata": {},
   "outputs": [
    {
     "name": "stdout",
     "output_type": "stream",
     "text": [
      "You passed 4 times\n"
     ]
    }
   ],
   "source": [
    "result = [\"Pass\",\"Fail\",\"Fail\",\"Pass\",\"Fail\",\"Pass\",\"Pass\",\"Fail\",\"Fail\",\"Fail\"] \n",
    "\n",
    "count = 0\n",
    "\n",
    "for i in result:\n",
    "    \n",
    "      if i == \"Pass\":\n",
    "\n",
    "        count += 1\n",
    "\n",
    "print(f'You passed {count} times') "
   ]
  },
  {
   "cell_type": "code",
   "execution_count": 9,
   "metadata": {},
   "outputs": [
    {
     "name": "stdout",
     "output_type": "stream",
     "text": [
      "* \n",
      "* * \n",
      "* * * \n",
      "* * * * \n",
      "* * * * * \n",
      "* * * * \n",
      "* * * \n",
      "* * \n",
      "* \n",
      "\n",
      "\n"
     ]
    }
   ],
   "source": [
    "rows = 5\n",
    "\n",
    "for i in range(0,rows):\n",
    "\n",
    "  for j in range(0,i+1):\n",
    "\n",
    "    print(\"*\",end = \" \")\n",
    "\n",
    "  print()\n",
    "\n",
    "for i in range(rows+1,0,-1):\n",
    "\n",
    "  for j in range(1,i-1):\n",
    "\n",
    "    print(\"*\",end = \" \")\n",
    "\n",
    "  print()"
   ]
  },
  {
   "cell_type": "code",
   "execution_count": 11,
   "metadata": {},
   "outputs": [
    {
     "name": "stdout",
     "output_type": "stream",
     "text": [
      "Are you tired?51\n",
      "Are you tired?NO\n",
      "Are you tired?50\n",
      "Are you tired?YES\n",
      "You didn't finish the race\n",
      "congrats! You still ran 40 KM\n"
     ]
    }
   ],
   "source": [
    "for i in range(1,51):\n",
    "\n",
    "  if i%10 == 0:\n",
    "\n",
    "    n = input(\"Are you tired?\")\n",
    "\n",
    "    if n == \"YES\":\n",
    "\n",
    "      print(\"You didn't finish the race\")\n",
    "\n",
    "      break\n",
    "\n",
    "if i==50:\n",
    "\n",
    "  print(\"Congratulations!! You finished the race\")\n",
    "\n",
    "else:\n",
    "\n",
    "  print(f\"congrats! You still ran {i} KM\")"
   ]
  },
  {
   "cell_type": "code",
   "execution_count": 12,
   "metadata": {},
   "outputs": [
    {
     "name": "stdout",
     "output_type": "stream",
     "text": [
      "1505\n",
      "1540\n",
      "1575\n",
      "1610\n",
      "1645\n",
      "1680\n",
      "1715\n",
      "1750\n",
      "1785\n",
      "1820\n",
      "1855\n",
      "1890\n",
      "1925\n",
      "1960\n",
      "1995\n",
      "2030\n",
      "2065\n",
      "2100\n",
      "2135\n",
      "2170\n",
      "2205\n",
      "2240\n",
      "2275\n",
      "2310\n",
      "2345\n",
      "2380\n",
      "2415\n",
      "2450\n",
      "2485\n",
      "2520\n",
      "2555\n",
      "2590\n",
      "2625\n",
      "2660\n",
      "2695\n"
     ]
    }
   ],
   "source": [
    "for i in range(1500,2701):\n",
    "  if i%7 == 0 and i%5 == 0:\n",
    "    print(i)"
   ]
  },
  {
   "cell_type": "code",
   "execution_count": 13,
   "metadata": {},
   "outputs": [
    {
     "name": "stdout",
     "output_type": "stream",
     "text": [
      "121\n",
      "169\n",
      "225\n",
      "289\n",
      "361\n"
     ]
    }
   ],
   "source": [
    "for i in range(10,21):\n",
    "    if i % 2 == 0:\n",
    "        continue\n",
    "    print(i*i)"
   ]
  },
  {
   "cell_type": "code",
   "execution_count": 15,
   "metadata": {},
   "outputs": [
    {
     "name": "stdout",
     "output_type": "stream",
     "text": [
      "Enter the mark: 75\n",
      "You got 75 in Test2\n"
     ]
    }
   ],
   "source": [
    "test_list = [\"Test1\",\"Test2\",\"Test3\",\"Test4\",\"Test5\"]\n",
    "marks_list = [65, 75, 2100, 95, 83]\n",
    "mark= int(input(\"Enter the mark: \"))\n",
    "test=-1\n",
    "for i in range(len(marks_list)):\n",
    "    if mark == marks_list[i]:\n",
    "        test = i\n",
    "        break\n",
    "if test != -1:\n",
    "    print(f'You got {mark} in {test_list[test]}')\n",
    "else:\n",
    "    print(f'Oops!, I found that You have entered the wrong mark {mark}. Please provide the correct marks')"
   ]
  }
 ],
 "metadata": {
  "kernelspec": {
   "display_name": "Python 3",
   "language": "python",
   "name": "python3"
  },
  "language_info": {
   "codemirror_mode": {
    "name": "ipython",
    "version": 3
   },
   "file_extension": ".py",
   "mimetype": "text/x-python",
   "name": "python",
   "nbconvert_exporter": "python",
   "pygments_lexer": "ipython3",
   "version": "3.8.5"
  }
 },
 "nbformat": 4,
 "nbformat_minor": 4
}
